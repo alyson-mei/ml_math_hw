{
  "nbformat": 4,
  "nbformat_minor": 0,
  "metadata": {
    "colab": {
      "provenance": [],
      "toc_visible": true,
      "authorship_tag": "ABX9TyPrOAd9TlvRp2dnvbllWXHz",
      "include_colab_link": true
    },
    "kernelspec": {
      "name": "python3",
      "display_name": "Python 3"
    },
    "language_info": {
      "name": "python"
    }
  },
  "cells": [
    {
      "cell_type": "markdown",
      "metadata": {
        "id": "view-in-github",
        "colab_type": "text"
      },
      "source": [
        "<a href=\"https://colab.research.google.com/github/alyson-mei/ml_math_hw_1/blob/main/ml_math_hw.ipynb\" target=\"_parent\"><img src=\"https://colab.research.google.com/assets/colab-badge.svg\" alt=\"Open In Colab\"/></a>"
      ]
    },
    {
      "cell_type": "markdown",
      "source": [
        "## Библиотеки\n",
        "\n"
      ],
      "metadata": {
        "id": "0zNLcNBO7qN0"
      }
    },
    {
      "cell_type": "code",
      "source": [
        "import warnings\n",
        "warnings.filterwarnings(\"ignore\")\n",
        "\n",
        "try:\n",
        "    import google.colab\n",
        "    IN_COLAB = True\n",
        "except:\n",
        "    IN_COLAB = False\n",
        "\n",
        "# Выдаёт ошибку как в этом ноутбуке, так и в семинарских. Но все библиотеки стандартные.\n",
        "#if IN_COLAB:\n",
        "#    !wget -q -O requirements.txt https://raw.githubusercontent.com/alyson-mei/ml_math_hw_1/main/requirements.txt\n",
        "#    !pip install -q -r requirements.txt"
      ],
      "metadata": {
        "id": "zXoVqInT9YJj"
      },
      "execution_count": 1,
      "outputs": []
    },
    {
      "cell_type": "code",
      "source": [
        "import numpy as np\n",
        "import matplotlib.pyplot as plt\n",
        "import seaborn as sns\n",
        "import pandas as pd\n",
        "import itertools\n",
        "\n",
        "from sklearn.linear_model import LinearRegression\n",
        "from sklearn.neural_network import MLPRegressor\n",
        "from sklearn.metrics import mean_absolute_error, mean_squared_error\n",
        "from sklearn.model_selection import GridSearchCV\n",
        "\n",
        "from scipy.spatial.distance import cdist"
      ],
      "metadata": {
        "id": "VXax1abO9scU"
      },
      "execution_count": 2,
      "outputs": []
    },
    {
      "cell_type": "markdown",
      "source": [
        "## Задание и датасет"
      ],
      "metadata": {
        "id": "AX5fwwxA8KD_"
      }
    },
    {
      "cell_type": "code",
      "source": [
        "assert IN_COLAB, 'Use Colab!'\n",
        "!wget https://raw.githubusercontent.com/alyson-mei/ml_math_hw/main/servo.csv\n",
        "!wget https://raw.githubusercontent.com/alyson-mei/ml_math_hw/main/servo_info.txt\n",
        "!wget https://raw.githubusercontent.com/alyson-mei/ml_math_hw_1/main/task.txt"
      ],
      "metadata": {
        "id": "ahx__WS99H7U",
        "colab": {
          "base_uri": "https://localhost:8080/"
        },
        "outputId": "d1cbf2be-c9b3-47df-afb7-b4f1ee4ea2a8"
      },
      "execution_count": 3,
      "outputs": [
        {
          "output_type": "stream",
          "name": "stdout",
          "text": [
            "--2023-10-15 18:55:53--  https://raw.githubusercontent.com/alyson-mei/ml_math_hw/main/servo.csv\n",
            "Resolving raw.githubusercontent.com (raw.githubusercontent.com)... 185.199.108.133, 185.199.109.133, 185.199.110.133, ...\n",
            "Connecting to raw.githubusercontent.com (raw.githubusercontent.com)|185.199.108.133|:443... connected.\n",
            "HTTP request sent, awaiting response... 200 OK\n",
            "Length: 3186 (3.1K) [text/plain]\n",
            "Saving to: ‘servo.csv’\n",
            "\n",
            "servo.csv           100%[===================>]   3.11K  --.-KB/s    in 0s      \n",
            "\n",
            "2023-10-15 18:55:53 (47.0 MB/s) - ‘servo.csv’ saved [3186/3186]\n",
            "\n",
            "--2023-10-15 18:55:53--  https://raw.githubusercontent.com/alyson-mei/ml_math_hw/main/servo_info.txt\n",
            "Resolving raw.githubusercontent.com (raw.githubusercontent.com)... 185.199.108.133, 185.199.109.133, 185.199.110.133, ...\n",
            "Connecting to raw.githubusercontent.com (raw.githubusercontent.com)|185.199.108.133|:443... connected.\n",
            "HTTP request sent, awaiting response... 200 OK\n",
            "Length: 2136 (2.1K) [text/plain]\n",
            "Saving to: ‘servo_info.txt’\n",
            "\n",
            "servo_info.txt      100%[===================>]   2.09K  --.-KB/s    in 0s      \n",
            "\n",
            "2023-10-15 18:55:54 (41.9 MB/s) - ‘servo_info.txt’ saved [2136/2136]\n",
            "\n",
            "--2023-10-15 18:55:54--  https://raw.githubusercontent.com/alyson-mei/ml_math_hw_1/main/task.txt\n",
            "Resolving raw.githubusercontent.com (raw.githubusercontent.com)... 185.199.108.133, 185.199.109.133, 185.199.110.133, ...\n",
            "Connecting to raw.githubusercontent.com (raw.githubusercontent.com)|185.199.108.133|:443... connected.\n",
            "HTTP request sent, awaiting response... 200 OK\n",
            "Length: 337 [text/plain]\n",
            "Saving to: ‘task.txt’\n",
            "\n",
            "task.txt            100%[===================>]     337  --.-KB/s    in 0s      \n",
            "\n",
            "2023-10-15 18:55:54 (16.0 MB/s) - ‘task.txt’ saved [337/337]\n",
            "\n"
          ]
        }
      ]
    },
    {
      "cell_type": "code",
      "source": [
        "# описание задания\n",
        "with open('/content/task.txt') as task:\n",
        "    print(task.read())"
      ],
      "metadata": {
        "colab": {
          "base_uri": "https://localhost:8080/"
        },
        "id": "AQUUxzYsxGHh",
        "outputId": "64100733-6f47-410f-cb86-c17cdde59655"
      },
      "execution_count": 4,
      "outputs": [
        {
          "output_type": "stream",
          "name": "stdout",
          "text": [
            "Enter your mail: khranilov.an@phystech.edu\n",
            "{'mail': 'khranilov.an@phystech.edu',\n",
            " 'id': 3004501260,\n",
            " 'type': 'regression',\n",
            " 'dataset': {'name': 'Servo Data Set',\n",
            "  'url': 'https://archive.ics.uci.edu/ml/datasets/Servo'},\n",
            " 'method': ['Перцептрон', 'Линейная регрессия', 'Надарая-Ватсона']}\n",
            "\n"
          ]
        }
      ]
    },
    {
      "cell_type": "code",
      "source": [
        "dataset = pd.read_csv('servo.csv', names = ('motor', 'screw', 'pgain', 'vgain', 'class'))\n",
        "dataset.sample(5, random_state=0)"
      ],
      "metadata": {
        "colab": {
          "base_uri": "https://localhost:8080/",
          "height": 206
        },
        "id": "Hy0I4pwaEcy0",
        "outputId": "5aa9e1e5-596f-4a72-cb89-3f00ab693451"
      },
      "execution_count": 5,
      "outputs": [
        {
          "output_type": "execute_result",
          "data": {
            "text/plain": [
              "    motor screw  pgain  vgain     class\n",
              "150     B     A      5      4  0.806255\n",
              "56      A     A      4      2  0.881255\n",
              "123     C     E      3      1  1.299997\n",
              "60      E     B      4      2  0.581253\n",
              "100     B     C      4      2  0.506252"
            ],
            "text/html": [
              "\n",
              "  <div id=\"df-4fecf8ec-100d-4565-9a8a-c9dc692cf838\" class=\"colab-df-container\">\n",
              "    <div>\n",
              "<style scoped>\n",
              "    .dataframe tbody tr th:only-of-type {\n",
              "        vertical-align: middle;\n",
              "    }\n",
              "\n",
              "    .dataframe tbody tr th {\n",
              "        vertical-align: top;\n",
              "    }\n",
              "\n",
              "    .dataframe thead th {\n",
              "        text-align: right;\n",
              "    }\n",
              "</style>\n",
              "<table border=\"1\" class=\"dataframe\">\n",
              "  <thead>\n",
              "    <tr style=\"text-align: right;\">\n",
              "      <th></th>\n",
              "      <th>motor</th>\n",
              "      <th>screw</th>\n",
              "      <th>pgain</th>\n",
              "      <th>vgain</th>\n",
              "      <th>class</th>\n",
              "    </tr>\n",
              "  </thead>\n",
              "  <tbody>\n",
              "    <tr>\n",
              "      <th>150</th>\n",
              "      <td>B</td>\n",
              "      <td>A</td>\n",
              "      <td>5</td>\n",
              "      <td>4</td>\n",
              "      <td>0.806255</td>\n",
              "    </tr>\n",
              "    <tr>\n",
              "      <th>56</th>\n",
              "      <td>A</td>\n",
              "      <td>A</td>\n",
              "      <td>4</td>\n",
              "      <td>2</td>\n",
              "      <td>0.881255</td>\n",
              "    </tr>\n",
              "    <tr>\n",
              "      <th>123</th>\n",
              "      <td>C</td>\n",
              "      <td>E</td>\n",
              "      <td>3</td>\n",
              "      <td>1</td>\n",
              "      <td>1.299997</td>\n",
              "    </tr>\n",
              "    <tr>\n",
              "      <th>60</th>\n",
              "      <td>E</td>\n",
              "      <td>B</td>\n",
              "      <td>4</td>\n",
              "      <td>2</td>\n",
              "      <td>0.581253</td>\n",
              "    </tr>\n",
              "    <tr>\n",
              "      <th>100</th>\n",
              "      <td>B</td>\n",
              "      <td>C</td>\n",
              "      <td>4</td>\n",
              "      <td>2</td>\n",
              "      <td>0.506252</td>\n",
              "    </tr>\n",
              "  </tbody>\n",
              "</table>\n",
              "</div>\n",
              "    <div class=\"colab-df-buttons\">\n",
              "\n",
              "  <div class=\"colab-df-container\">\n",
              "    <button class=\"colab-df-convert\" onclick=\"convertToInteractive('df-4fecf8ec-100d-4565-9a8a-c9dc692cf838')\"\n",
              "            title=\"Convert this dataframe to an interactive table.\"\n",
              "            style=\"display:none;\">\n",
              "\n",
              "  <svg xmlns=\"http://www.w3.org/2000/svg\" height=\"24px\" viewBox=\"0 -960 960 960\">\n",
              "    <path d=\"M120-120v-720h720v720H120Zm60-500h600v-160H180v160Zm220 220h160v-160H400v160Zm0 220h160v-160H400v160ZM180-400h160v-160H180v160Zm440 0h160v-160H620v160ZM180-180h160v-160H180v160Zm440 0h160v-160H620v160Z\"/>\n",
              "  </svg>\n",
              "    </button>\n",
              "\n",
              "  <style>\n",
              "    .colab-df-container {\n",
              "      display:flex;\n",
              "      gap: 12px;\n",
              "    }\n",
              "\n",
              "    .colab-df-convert {\n",
              "      background-color: #E8F0FE;\n",
              "      border: none;\n",
              "      border-radius: 50%;\n",
              "      cursor: pointer;\n",
              "      display: none;\n",
              "      fill: #1967D2;\n",
              "      height: 32px;\n",
              "      padding: 0 0 0 0;\n",
              "      width: 32px;\n",
              "    }\n",
              "\n",
              "    .colab-df-convert:hover {\n",
              "      background-color: #E2EBFA;\n",
              "      box-shadow: 0px 1px 2px rgba(60, 64, 67, 0.3), 0px 1px 3px 1px rgba(60, 64, 67, 0.15);\n",
              "      fill: #174EA6;\n",
              "    }\n",
              "\n",
              "    .colab-df-buttons div {\n",
              "      margin-bottom: 4px;\n",
              "    }\n",
              "\n",
              "    [theme=dark] .colab-df-convert {\n",
              "      background-color: #3B4455;\n",
              "      fill: #D2E3FC;\n",
              "    }\n",
              "\n",
              "    [theme=dark] .colab-df-convert:hover {\n",
              "      background-color: #434B5C;\n",
              "      box-shadow: 0px 1px 3px 1px rgba(0, 0, 0, 0.15);\n",
              "      filter: drop-shadow(0px 1px 2px rgba(0, 0, 0, 0.3));\n",
              "      fill: #FFFFFF;\n",
              "    }\n",
              "  </style>\n",
              "\n",
              "    <script>\n",
              "      const buttonEl =\n",
              "        document.querySelector('#df-4fecf8ec-100d-4565-9a8a-c9dc692cf838 button.colab-df-convert');\n",
              "      buttonEl.style.display =\n",
              "        google.colab.kernel.accessAllowed ? 'block' : 'none';\n",
              "\n",
              "      async function convertToInteractive(key) {\n",
              "        const element = document.querySelector('#df-4fecf8ec-100d-4565-9a8a-c9dc692cf838');\n",
              "        const dataTable =\n",
              "          await google.colab.kernel.invokeFunction('convertToInteractive',\n",
              "                                                    [key], {});\n",
              "        if (!dataTable) return;\n",
              "\n",
              "        const docLinkHtml = 'Like what you see? Visit the ' +\n",
              "          '<a target=\"_blank\" href=https://colab.research.google.com/notebooks/data_table.ipynb>data table notebook</a>'\n",
              "          + ' to learn more about interactive tables.';\n",
              "        element.innerHTML = '';\n",
              "        dataTable['output_type'] = 'display_data';\n",
              "        await google.colab.output.renderOutput(dataTable, element);\n",
              "        const docLink = document.createElement('div');\n",
              "        docLink.innerHTML = docLinkHtml;\n",
              "        element.appendChild(docLink);\n",
              "      }\n",
              "    </script>\n",
              "  </div>\n",
              "\n",
              "\n",
              "<div id=\"df-a0094fcc-5e49-4c1c-8ee8-6b380a1c7694\">\n",
              "  <button class=\"colab-df-quickchart\" onclick=\"quickchart('df-a0094fcc-5e49-4c1c-8ee8-6b380a1c7694')\"\n",
              "            title=\"Suggest charts.\"\n",
              "            style=\"display:none;\">\n",
              "\n",
              "<svg xmlns=\"http://www.w3.org/2000/svg\" height=\"24px\"viewBox=\"0 0 24 24\"\n",
              "     width=\"24px\">\n",
              "    <g>\n",
              "        <path d=\"M19 3H5c-1.1 0-2 .9-2 2v14c0 1.1.9 2 2 2h14c1.1 0 2-.9 2-2V5c0-1.1-.9-2-2-2zM9 17H7v-7h2v7zm4 0h-2V7h2v10zm4 0h-2v-4h2v4z\"/>\n",
              "    </g>\n",
              "</svg>\n",
              "  </button>\n",
              "\n",
              "<style>\n",
              "  .colab-df-quickchart {\n",
              "      --bg-color: #E8F0FE;\n",
              "      --fill-color: #1967D2;\n",
              "      --hover-bg-color: #E2EBFA;\n",
              "      --hover-fill-color: #174EA6;\n",
              "      --disabled-fill-color: #AAA;\n",
              "      --disabled-bg-color: #DDD;\n",
              "  }\n",
              "\n",
              "  [theme=dark] .colab-df-quickchart {\n",
              "      --bg-color: #3B4455;\n",
              "      --fill-color: #D2E3FC;\n",
              "      --hover-bg-color: #434B5C;\n",
              "      --hover-fill-color: #FFFFFF;\n",
              "      --disabled-bg-color: #3B4455;\n",
              "      --disabled-fill-color: #666;\n",
              "  }\n",
              "\n",
              "  .colab-df-quickchart {\n",
              "    background-color: var(--bg-color);\n",
              "    border: none;\n",
              "    border-radius: 50%;\n",
              "    cursor: pointer;\n",
              "    display: none;\n",
              "    fill: var(--fill-color);\n",
              "    height: 32px;\n",
              "    padding: 0;\n",
              "    width: 32px;\n",
              "  }\n",
              "\n",
              "  .colab-df-quickchart:hover {\n",
              "    background-color: var(--hover-bg-color);\n",
              "    box-shadow: 0 1px 2px rgba(60, 64, 67, 0.3), 0 1px 3px 1px rgba(60, 64, 67, 0.15);\n",
              "    fill: var(--button-hover-fill-color);\n",
              "  }\n",
              "\n",
              "  .colab-df-quickchart-complete:disabled,\n",
              "  .colab-df-quickchart-complete:disabled:hover {\n",
              "    background-color: var(--disabled-bg-color);\n",
              "    fill: var(--disabled-fill-color);\n",
              "    box-shadow: none;\n",
              "  }\n",
              "\n",
              "  .colab-df-spinner {\n",
              "    border: 2px solid var(--fill-color);\n",
              "    border-color: transparent;\n",
              "    border-bottom-color: var(--fill-color);\n",
              "    animation:\n",
              "      spin 1s steps(1) infinite;\n",
              "  }\n",
              "\n",
              "  @keyframes spin {\n",
              "    0% {\n",
              "      border-color: transparent;\n",
              "      border-bottom-color: var(--fill-color);\n",
              "      border-left-color: var(--fill-color);\n",
              "    }\n",
              "    20% {\n",
              "      border-color: transparent;\n",
              "      border-left-color: var(--fill-color);\n",
              "      border-top-color: var(--fill-color);\n",
              "    }\n",
              "    30% {\n",
              "      border-color: transparent;\n",
              "      border-left-color: var(--fill-color);\n",
              "      border-top-color: var(--fill-color);\n",
              "      border-right-color: var(--fill-color);\n",
              "    }\n",
              "    40% {\n",
              "      border-color: transparent;\n",
              "      border-right-color: var(--fill-color);\n",
              "      border-top-color: var(--fill-color);\n",
              "    }\n",
              "    60% {\n",
              "      border-color: transparent;\n",
              "      border-right-color: var(--fill-color);\n",
              "    }\n",
              "    80% {\n",
              "      border-color: transparent;\n",
              "      border-right-color: var(--fill-color);\n",
              "      border-bottom-color: var(--fill-color);\n",
              "    }\n",
              "    90% {\n",
              "      border-color: transparent;\n",
              "      border-bottom-color: var(--fill-color);\n",
              "    }\n",
              "  }\n",
              "</style>\n",
              "\n",
              "  <script>\n",
              "    async function quickchart(key) {\n",
              "      const quickchartButtonEl =\n",
              "        document.querySelector('#' + key + ' button');\n",
              "      quickchartButtonEl.disabled = true;  // To prevent multiple clicks.\n",
              "      quickchartButtonEl.classList.add('colab-df-spinner');\n",
              "      try {\n",
              "        const charts = await google.colab.kernel.invokeFunction(\n",
              "            'suggestCharts', [key], {});\n",
              "      } catch (error) {\n",
              "        console.error('Error during call to suggestCharts:', error);\n",
              "      }\n",
              "      quickchartButtonEl.classList.remove('colab-df-spinner');\n",
              "      quickchartButtonEl.classList.add('colab-df-quickchart-complete');\n",
              "    }\n",
              "    (() => {\n",
              "      let quickchartButtonEl =\n",
              "        document.querySelector('#df-a0094fcc-5e49-4c1c-8ee8-6b380a1c7694 button');\n",
              "      quickchartButtonEl.style.display =\n",
              "        google.colab.kernel.accessAllowed ? 'block' : 'none';\n",
              "    })();\n",
              "  </script>\n",
              "</div>\n",
              "    </div>\n",
              "  </div>\n"
            ]
          },
          "metadata": {},
          "execution_count": 5
        }
      ]
    },
    {
      "cell_type": "code",
      "source": [
        "# информация о датасете\n",
        "with open('/content/servo_info.txt') as info:\n",
        "    print(info.read())"
      ],
      "metadata": {
        "colab": {
          "base_uri": "https://localhost:8080/"
        },
        "id": "4kf5CAcp9Kmd",
        "outputId": "63ddd3a1-03af-419f-8f18-1a7f8eba37ed"
      },
      "execution_count": 6,
      "outputs": [
        {
          "output_type": "stream",
          "name": "stdout",
          "text": [
            "\n",
            "1. Title: Servo Data\n",
            "\n",
            "2. Sources\n",
            "   (a) Created by: Karl Ulrich (MIT) in 1986\n",
            "   (b) Donor: Ross Quinlan\n",
            "   (c) Date: May 1993\n",
            "\n",
            "3. Past Usage:\n",
            "\n",
            "   1.  Quinlan, J.R., \"Learning with continuous classes\", Proc. 5th Australian\n",
            "       Joint Conference on AI (eds A. Adams and L. Sterling), Singapore: World\n",
            "       Scientific, 1992\n",
            " \n",
            "   2.  Quinlan, J.R., \"Combining instance-based and model-based learning\",\n",
            "       Proc. ML'93 (ed P.E. Utgoff), San Mateo: Morgan Kaufmann 1993\n",
            " \n",
            "       Results on 10-way cross-validation:\n",
            " \n",
            "       Method\t\t\tAverage\t\tRelative\n",
            "       ------\t\t\t |Err|\t\t Error\n",
            " \t\t\t\t-------\t\t--------\n",
            " \n",
            "       Guessing mean\t\t  1.15\t\t  1.00\n",
            "       Instance-based\t\t   .52\t\t   .26\n",
            "       Regression\t\t   .86\t\t   .49\n",
            "       Model trees\t\t   .45\t\t   .29\n",
            "       Neural nets (G. Hinton)\t   .30\t\t   .11\n",
            "       Regression+instances\t   .48\t\t   .20\n",
            "       Model trees+instances\t   .30\t\t   .17\n",
            "       NN+instances\t\t   .29\t\t   .11\n",
            " \n",
            "4. Relevant Information:\n",
            "\n",
            "   Ross Quinlan:\n",
            "\n",
            "   This data was given to me by Karl Ulrich at MIT in 1986.  I didn't \n",
            "   record his description at the time, but here's his subsequent (1992) \n",
            "   recollection:\n",
            " \n",
            "     \"I seem to remember that the data was from a simulation of a servo\n",
            "     system involving a servo amplifier, a motor, a lead screw/nut, and a\n",
            "     sliding carriage of some sort.  It may have been on of the\n",
            "     translational axes of a robot on the 9th floor of the AI lab.  In any\n",
            "     case, the output value is almost certainly a rise time, or the time\n",
            "     required for the system to respond to a step change in a position set\n",
            "     point.\"\n",
            " \n",
            "   (Quinlan, ML'93)\n",
            "\n",
            "   \"This is an interesting collection of data provided by Karl \n",
            "    Ulrich.  It covers an extremely non-linear phenomenon - predicting the \n",
            "    rise time of a servomechanism in terms of two (continuous) gain settings\n",
            "    and two (discrete) choices of mechanical linkages.\"\n",
            "\n",
            "5. Number of Instances: 167\n",
            "\n",
            "6. Number of Attributes: 4 + numeric class attribute\n",
            "\n",
            "7. Attribute information:\n",
            "\n",
            "   1. motor: A,B,C,D,E\n",
            "   2. screw: A,B,C,D,E\n",
            "   3. pgain: 3,4,5,6\n",
            "   4. vgain: 1,2,3,4,5\n",
            "   5. class: 0.13 to 7.10\n",
            "\n",
            "8. Missing Attribute Values: None\n",
            "\n"
          ]
        }
      ]
    },
    {
      "cell_type": "markdown",
      "source": [
        "Сложно получить существенную информацию из визуального представления данных в задаче регрессии с (фактически) категориальными фичами. Ниже приведены гистограммы значения таргета для каждого из значений каждой из фичей. Из них видно только то, что общая зависимость достаточно сложная, что также написано в описании датасета."
      ],
      "metadata": {
        "id": "CeaVfFl1lpO1"
      }
    },
    {
      "cell_type": "code",
      "source": [
        "sns.displot(dataset, x=\"class\", hue=\"motor\", col=\"motor\", col_order = ('A', 'B', 'C', 'D', 'E'))\n",
        "sns.displot(dataset, x=\"class\", hue=\"screw\", col=\"screw\", col_order = ('A', 'B', 'C', 'D', 'E'))\n",
        "sns.displot(dataset, x=\"class\", hue=\"pgain\", col=\"pgain\")\n",
        "sns.displot(dataset, x=\"class\", hue=\"vgain\", col=\"vgain\")"
      ],
      "metadata": {
        "colab": {
          "base_uri": "https://localhost:8080/",
          "height": 659
        },
        "id": "vm-jvBc7kADs",
        "outputId": "991841d5-880e-4736-e575-ea9939d9e131"
      },
      "execution_count": 7,
      "outputs": [
        {
          "output_type": "execute_result",
          "data": {
            "text/plain": [
              "<seaborn.axisgrid.FacetGrid at 0x7a64cd6c3ca0>"
            ]
          },
          "metadata": {},
          "execution_count": 7
        },
        {
          "output_type": "display_data",
          "data": {
            "text/plain": [
              "<Figure size 2560.75x500 with 5 Axes>"
            ],
            "image/png": "[encoded data removed]"
          },
          "metadata": {}
        },
        {
          "output_type": "display_data",
          "data": {
            "text/plain": [
              "<Figure size 2560.75x500 with 5 Axes>"
            ],
            "image/png": "[encoded data removed]"
          },
          "metadata": {}
        },
        {
          "output_type": "display_data",
          "data": {
            "text/plain": [
              "<Figure size 2058.88x500 with 4 Axes>"
            ],
            "image/png": "[encoded data removed]"
          },
          "metadata": {}
        },
        {
          "output_type": "display_data",
          "data": {
            "text/plain": [
              "<Figure size 2558.88x500 with 5 Axes>"
            ],
            "image/png": "[encoded data removed]"
          },
          "metadata": {}
        }
      ]
    },
    {
      "cell_type": "markdown",
      "source": [
        "Задача регрессии: по четырём фичам, две из которых категориальные (motor, screw) и две не очень понятно какие (pgain, vgain) предсказываем непрерывную величину class. В описании датасета написано, что pgain и vgain \"непрерывные\", но они принимают 4 и 5 значений соответственно. Это много меньше числа объектов, поэтому разумно считать их категориальными. Для линейной регрессии попробуем оба варианта и, сравнив результаты, увидем, что всё действительно так."
      ],
      "metadata": {
        "id": "49TjtiQQBFUF"
      }
    },
    {
      "cell_type": "markdown",
      "source": [
        "## Предобработка данных"
      ],
      "metadata": {
        "id": "PuNjc68SD-GN"
      }
    },
    {
      "cell_type": "code",
      "source": [
        "# преобразуем фичи с помощью dummy encoding, переводим фичи и таргет в numpy массивы X и y\n",
        "# использования dummy encoding позволяет избавиться от мультиколлинеарности\n",
        "# 1) считаем pgain и vgain категориальными\n",
        "X = pd.get_dummies(dataset.iloc[:, :-1], columns = ['motor', 'screw', 'pgain', 'vgain'], drop_first = True).to_numpy()\n",
        "y = dataset.iloc[:, -1].to_numpy()\n",
        "X[:5], y[:5]\n"
      ],
      "metadata": {
        "colab": {
          "base_uri": "https://localhost:8080/"
        },
        "id": "o9Vn8_bLETg6",
        "outputId": "d5f45e2d-5dfa-4577-ad02-39d26798b096"
      },
      "execution_count": 8,
      "outputs": [
        {
          "output_type": "execute_result",
          "data": {
            "text/plain": [
              "(array([[0, 0, 0, 1, 0, 0, 0, 1, 0, 1, 0, 0, 0, 1, 0],\n",
              "        [1, 0, 0, 0, 0, 0, 1, 0, 0, 0, 1, 0, 0, 0, 1],\n",
              "        [0, 0, 1, 0, 0, 0, 1, 0, 1, 0, 0, 0, 1, 0, 0],\n",
              "        [1, 0, 0, 0, 0, 0, 0, 0, 0, 0, 0, 1, 0, 0, 0],\n",
              "        [0, 0, 1, 0, 1, 0, 0, 0, 0, 0, 1, 0, 0, 0, 1]], dtype=uint8),\n",
              " array([0.28125095, 0.5062525 , 0.35625148, 5.500033  , 0.35625148]))"
            ]
          },
          "metadata": {},
          "execution_count": 8
        }
      ]
    },
    {
      "cell_type": "code",
      "source": [
        "# 2) считаем pgain и vgain числовыми\n",
        "dataset_noncat = pd.get_dummies(dataset.iloc[:, :2], columns = ['motor', 'screw'], drop_first = True)\n",
        "dataset_noncat[['pgain', 'vgain']] = dataset[['pgain', 'vgain']]\n",
        "X_noncat = dataset_noncat.to_numpy()\n",
        "X_noncat[:5], y[:5]"
      ],
      "metadata": {
        "colab": {
          "base_uri": "https://localhost:8080/"
        },
        "id": "veES9gskSZC-",
        "outputId": "5575984a-8c3a-439b-88e1-81931632a8c9"
      },
      "execution_count": 9,
      "outputs": [
        {
          "output_type": "execute_result",
          "data": {
            "text/plain": [
              "(array([[0, 0, 0, 1, 0, 0, 0, 1, 5, 4],\n",
              "        [1, 0, 0, 0, 0, 0, 1, 0, 6, 5],\n",
              "        [0, 0, 1, 0, 0, 0, 1, 0, 4, 3],\n",
              "        [1, 0, 0, 0, 0, 0, 0, 0, 3, 2],\n",
              "        [0, 0, 1, 0, 1, 0, 0, 0, 6, 5]]),\n",
              " array([0.28125095, 0.5062525 , 0.35625148, 5.500033  , 0.35625148]))"
            ]
          },
          "metadata": {},
          "execution_count": 9
        }
      ]
    },
    {
      "cell_type": "markdown",
      "source": [
        "## Функции кросс-валидации и подбора параметров"
      ],
      "metadata": {
        "id": "5fHTtYtPRQIa"
      }
    },
    {
      "cell_type": "markdown",
      "source": [],
      "metadata": {
        "id": "YBgaUgwoTr23"
      }
    },
    {
      "cell_type": "markdown",
      "source": [
        "Объектов мало, так что оцениваем качество с кросс-валидацией. Используем LOOCV и n-CV (кросс-валидацию с n фолдами). В качестве лосс-функций возьмём MAE и MSE. Их усреднение по фолдам кросс-валидации будем обозначать CVMAE и CVMSE соотвественно. Для случая LOOCV построим гиотограммы ошибок."
      ],
      "metadata": {
        "id": "K9HOmEfrQjy0"
      }
    },
    {
      "cell_type": "code",
      "source": [
        "def number_split(length, number):\n",
        "    '''\n",
        "    Возвращает массив number+1 индексов для последующего разбиения массива длиной length на number частей\n",
        "    '''\n",
        "    indices = np.zeros(number+1)\n",
        "    current_index = 0\n",
        "    for i in range(number):\n",
        "        quotient = length//(number - i)\n",
        "        current_index += quotient\n",
        "        indices[i+1] = current_index\n",
        "        length -= quotient\n",
        "    return indices.astype(int)\n",
        "\n",
        "def CV(X, y, model, num_of_folds = 167, print_results = True):\n",
        "    '''\n",
        "    Детерминированная кросс-валидация с num_of_folds числом фолдов.\n",
        "    arguments:\n",
        "              X: датасет\n",
        "              y: таргет\n",
        "              model: модель\n",
        "              num_of_folds: число фолдов разбиения датасета\n",
        "    returns:\n",
        "              mae: массив, на i-м месте в котором содержится MAE для i-го фолда\n",
        "              mse: массив, на i-м месте в котором содержится MSE для i-го фолда\n",
        "    '''\n",
        "    mae = np.zeros(num_of_folds)\n",
        "    mse = np.zeros(num_of_folds)\n",
        "    indices = number_split(len(X), num_of_folds)\n",
        "    for i in range(num_of_folds):\n",
        "      X_train, X_test = np.concatenate((X[:indices[i]], X[indices[i+1]:])), X[indices[i]:indices[i+1]]\n",
        "      y_train, y_test = np.concatenate((y[:indices[i]], y[indices[i+1]:])), y[indices[i]:indices[i+1]]\n",
        "      model.fit(X_train, y_train)\n",
        "      y_pred = model.predict(X_test)\n",
        "      mae[i] = mean_absolute_error(y_pred, y_test)\n",
        "      mse[i] = mean_squared_error(y_pred, y_test)\n",
        "    if print_results:\n",
        "      print(f'CVMAE: {mae.mean()}')\n",
        "      print(f'CVMSE: {mse.mean()}')\n",
        "    return mae, mse"
      ],
      "metadata": {
        "id": "eSdpiC--RN4a"
      },
      "execution_count": 10,
      "outputs": []
    },
    {
      "cell_type": "code",
      "source": [
        "def MyGridSearchCV(model, parameters, num_of_folds = 5):\n",
        "    '''\n",
        "    Проводит подбор параметров на основе функции CV.\n",
        "    returns:\n",
        "            cases: список словарей с параметрами, CVMAE и CVMSE\n",
        "    '''\n",
        "    keys = parameters.keys()\n",
        "    combinations = itertools.product(*parameters.values())\n",
        "    cases = [dict(zip(keys, cc)) for cc in combinations]\n",
        "    for param_case in cases:\n",
        "      current_model = model.set_params(**param_case)\n",
        "      mae, mse = CV(X, y, current_model, num_of_folds, print_results = False)\n",
        "      param_case['CVMAE'] = mae.mean()\n",
        "      param_case['CVMSE'] = mse.mean()\n",
        "    return cases\n",
        "\n",
        "def GridSearchCV_table(cases, sort_by = None):\n",
        "    '''\n",
        "    Строит датафрейм по списку словарей.\n",
        "    returns:\n",
        "            df: датафрейм\n",
        "    '''\n",
        "    df = pd.DataFrame.from_dict(cases)\n",
        "    df = df.sort_values(sort_by)\n",
        "    return df"
      ],
      "metadata": {
        "id": "19leIGMi0jMI"
      },
      "execution_count": 11,
      "outputs": []
    },
    {
      "cell_type": "code",
      "source": [
        "def histogram_mae(mae, number_of_bins = 30):\n",
        "    '''\n",
        "    Строит гистограмму. Используем для построения гистограммы ошибок LOOCV.\n",
        "    '''\n",
        "    plt.hist(mae, bins = number_of_bins)\n",
        "    plt.xlabel('Абсолютная ошибка')\n",
        "    plt.ylabel('Число объектов в интервале')\n",
        "    plt.show()"
      ],
      "metadata": {
        "id": "t9rWurtwOYAl"
      },
      "execution_count": 12,
      "outputs": []
    },
    {
      "cell_type": "markdown",
      "source": [
        "## Линейная регрессия"
      ],
      "metadata": {
        "id": "YdftegB_Isj6"
      }
    },
    {
      "cell_type": "code",
      "source": [
        "mean_y = np.mean(y)\n",
        "print(f'Среднее для y: {np.mean(y)}')\n",
        "print(f'Стадартное отклонение для y: {np.std(y)}')"
      ],
      "metadata": {
        "colab": {
          "base_uri": "https://localhost:8080/"
        },
        "id": "5B7dMDS-XnTw",
        "outputId": "19524a0d-88c3-4541-ed74-8c7640071a0e"
      },
      "execution_count": 13,
      "outputs": [
        {
          "output_type": "stream",
          "name": "stdout",
          "text": [
            "Среднее для y: 1.3897083879041916\n",
            "Стадартное отклонение для y: 1.5549585912047752\n"
          ]
        }
      ]
    },
    {
      "cell_type": "markdown",
      "source": [
        "#### pgain и vgain категориальные"
      ],
      "metadata": {
        "id": "ki_Cxp6NWuNf"
      }
    },
    {
      "cell_type": "code",
      "source": [
        "# LOOCV\n",
        "mae = CV(X, y, LinearRegression())[0]"
      ],
      "metadata": {
        "colab": {
          "base_uri": "https://localhost:8080/"
        },
        "id": "uQKvk3bWXsZV",
        "outputId": "19329d2d-431e-4880-8f66-60faf7b10565"
      },
      "execution_count": 14,
      "outputs": [
        {
          "output_type": "stream",
          "name": "stdout",
          "text": [
            "CVMAE: 0.6260861271835535\n",
            "CVMSE: 0.6990491193043934\n"
          ]
        }
      ]
    },
    {
      "cell_type": "code",
      "source": [
        "# гистограмма ошибок для LOOCV\n",
        "histogram_mae(mae)"
      ],
      "metadata": {
        "colab": {
          "base_uri": "https://localhost:8080/",
          "height": 449
        },
        "id": "yEIehyuvhKS4",
        "outputId": "04acde43-e470-4d03-bd38-64f2faf9dc81"
      },
      "execution_count": 15,
      "outputs": [
        {
          "output_type": "display_data",
          "data": {
            "text/plain": [
              "<Figure size 640x480 with 1 Axes>"
            ],
            "image/png": "[encoded data removed]"
          },
          "metadata": {}
        }
      ]
    },
    {
      "cell_type": "code",
      "source": [
        "# CV с 11 фолдами\n",
        "CV(X, y, LinearRegression(), 11);"
      ],
      "metadata": {
        "colab": {
          "base_uri": "https://localhost:8080/"
        },
        "id": "i2uf1WSZK_3g",
        "outputId": "51f8c942-543b-4043-ec92-4a85eb8bbdd7"
      },
      "execution_count": 16,
      "outputs": [
        {
          "output_type": "stream",
          "name": "stdout",
          "text": [
            "CVMAE: 0.62732858680441\n",
            "CVMSE: 0.7084765736419772\n"
          ]
        }
      ]
    },
    {
      "cell_type": "markdown",
      "source": [
        "#### vgain и pgain числовые"
      ],
      "metadata": {
        "id": "WXo3htevYGhG"
      }
    },
    {
      "cell_type": "code",
      "source": [
        "# LOOCV\n",
        "mae_noncat = CV(X_noncat, y, LinearRegression())[0]"
      ],
      "metadata": {
        "colab": {
          "base_uri": "https://localhost:8080/"
        },
        "id": "7fH2fIGoYMiN",
        "outputId": "0f41f6fc-ac63-4929-e2f1-fe71e0674c85"
      },
      "execution_count": 17,
      "outputs": [
        {
          "output_type": "stream",
          "name": "stdout",
          "text": [
            "CVMAE: 0.9057914917518263\n",
            "CVMSE: 1.227540987329755\n"
          ]
        }
      ]
    },
    {
      "cell_type": "code",
      "source": [
        "# гистограмма ошибок для LOOCV\n",
        "histogram_mae(mae_noncat)"
      ],
      "metadata": {
        "colab": {
          "base_uri": "https://localhost:8080/",
          "height": 449
        },
        "id": "oZ8JEpGZYdtc",
        "outputId": "add6318e-8a28-47ff-8250-4a4cd365e422"
      },
      "execution_count": 18,
      "outputs": [
        {
          "output_type": "display_data",
          "data": {
            "text/plain": [
              "<Figure size 640x480 with 1 Axes>"
            ],
            "image/png": "[encoded data removed]"
          },
          "metadata": {}
        }
      ]
    },
    {
      "cell_type": "code",
      "source": [
        "# CV с 11 фолдами\n",
        "CV(X_noncat, y, LinearRegression(), 11);"
      ],
      "metadata": {
        "colab": {
          "base_uri": "https://localhost:8080/"
        },
        "id": "qnf8leMyJ-lZ",
        "outputId": "0b85df24-90db-4724-84ad-c8a79abffa5c"
      },
      "execution_count": 19,
      "outputs": [
        {
          "output_type": "stream",
          "name": "stdout",
          "text": [
            "CVMAE: 0.9056880262538679\n",
            "CVMSE: 1.2344115709988566\n"
          ]
        }
      ]
    },
    {
      "cell_type": "markdown",
      "source": [
        "Видим, что разумно считать все фичи категориальными. Также\n",
        "заметим, что гистограмма показывает наличие нескольких значительных выбросов с большой ошибкой. Запомним их индексы и далее сравним с другими методами."
      ],
      "metadata": {
        "id": "smGi8bJFg7aM"
      }
    },
    {
      "cell_type": "code",
      "source": [
        "list_mae = pd.Series(mae)\n",
        "i = list_mae.nlargest(5)\n",
        "indices_linear = i.index.values.tolist()\n",
        "indices_linear"
      ],
      "metadata": {
        "colab": {
          "base_uri": "https://localhost:8080/"
        },
        "id": "9ThkmazNGWWR",
        "outputId": "d5765b33-fc43-4846-9b47-8de5005e2ba4"
      },
      "execution_count": 20,
      "outputs": [
        {
          "output_type": "execute_result",
          "data": {
            "text/plain": [
              "[80, 58, 151, 35, 96]"
            ]
          },
          "metadata": {},
          "execution_count": 20
        }
      ]
    },
    {
      "cell_type": "markdown",
      "source": [
        "## Перцептрон"
      ],
      "metadata": {
        "id": "XmsAERtLi5Bc"
      }
    },
    {
      "cell_type": "markdown",
      "source": [
        "Для простоты используем имплементацию в sklearn. В ней есть не все гиперпараметры (в частности, нет dropout). Будем подбирать размеры и число скрытых уровней, функцию активации. Для LOOCV (работает долго!) построим гистограмму ошибок.\n",
        "\n"
      ],
      "metadata": {
        "id": "TOs91govYGeu"
      }
    },
    {
      "cell_type": "markdown",
      "source": [
        "#### CV"
      ],
      "metadata": {
        "id": "l_FXqFlTaqWv"
      }
    },
    {
      "cell_type": "code",
      "source": [
        "model = MLPRegressor(hidden_layer_sizes=(100,2), activation='relu', max_iter=300, random_state = 0)"
      ],
      "metadata": {
        "id": "wkq5R2UrYQiD"
      },
      "execution_count": 21,
      "outputs": []
    },
    {
      "cell_type": "code",
      "source": [
        "# LOOCV, начальные гиперпараметры\n",
        "mae = CV(X, y, model, 167)[0]"
      ],
      "metadata": {
        "colab": {
          "base_uri": "https://localhost:8080/"
        },
        "id": "In86Ffc9s4fb",
        "outputId": "50ded762-59c3-4816-a024-cd3c987859b0"
      },
      "execution_count": 22,
      "outputs": [
        {
          "output_type": "stream",
          "name": "stdout",
          "text": [
            "CVMAE: 0.5387843755573569\n",
            "CVMSE: 0.7967256093035903\n"
          ]
        }
      ]
    },
    {
      "cell_type": "code",
      "source": [
        "# гистограмма ошибок для LOOCV с начальными гиперпараметрами\n",
        "histogram_mae(mae, number_of_bins = 30)"
      ],
      "metadata": {
        "colab": {
          "base_uri": "https://localhost:8080/",
          "height": 449
        },
        "id": "Z8RfR3a1tvYj",
        "outputId": "baf2bacd-4531-48b3-ac73-e07a808f62d8"
      },
      "execution_count": 23,
      "outputs": [
        {
          "output_type": "display_data",
          "data": {
            "text/plain": [
              "<Figure size 640x480 with 1 Axes>"
            ],
            "image/png": "[encoded data removed]"
          },
          "metadata": {}
        }
      ]
    },
    {
      "cell_type": "code",
      "source": [
        "# CV с 5 фолдами\n",
        "mae, mse = CV(X, y, model, 5)"
      ],
      "metadata": {
        "colab": {
          "base_uri": "https://localhost:8080/"
        },
        "id": "6Tg_NUEhUV9y",
        "outputId": "adca6ebb-4522-4b5b-a728-df4bd81ecb4d"
      },
      "execution_count": 24,
      "outputs": [
        {
          "output_type": "stream",
          "name": "stdout",
          "text": [
            "CVMAE: 0.5498159666944293\n",
            "CVMSE: 0.7602052326254111\n"
          ]
        }
      ]
    },
    {
      "cell_type": "markdown",
      "source": [
        "#### Подбор гиперпараметров"
      ],
      "metadata": {
        "id": "Hsk3dCyUa9qk"
      }
    },
    {
      "cell_type": "code",
      "source": [
        "parameters = { 'hidden_layer_sizes': [(a, b) for a in [100, 250, 300] for b in [9, 11, 13]],\n",
        "              'activation': ['relu', 'logistic', 'tanh'] }"
      ],
      "metadata": {
        "id": "jNw-eCOUbBHT"
      },
      "execution_count": 25,
      "outputs": []
    },
    {
      "cell_type": "code",
      "source": [
        "cases = MyGridSearchCV(model, parameters, num_of_folds = 5)"
      ],
      "metadata": {
        "id": "TsrV3BnWaMju"
      },
      "execution_count": 26,
      "outputs": []
    },
    {
      "cell_type": "code",
      "source": [
        "cases_df = GridSearchCV_table(cases, sort_by = 'CVMAE')\n",
        "cases_df.head()"
      ],
      "metadata": {
        "colab": {
          "base_uri": "https://localhost:8080/",
          "height": 206
        },
        "id": "lN-8FfsBhWD2",
        "outputId": "5ec9de7c-e32e-42db-9471-f4467f5518a4"
      },
      "execution_count": 27,
      "outputs": [
        {
          "output_type": "execute_result",
          "data": {
            "text/plain": [
              "   hidden_layer_sizes activation     CVMAE     CVMSE\n",
              "14          (250, 11)       tanh  0.288373  0.268555\n",
              "26          (300, 13)       tanh  0.301576  0.271341\n",
              "20           (300, 9)       tanh  0.302279  0.284921\n",
              "9            (250, 9)       relu  0.315122  0.293126\n",
              "24          (300, 13)       relu  0.319172  0.287318"
            ],
            "text/html": [
              "\n",
              "  <div id=\"df-66591852-25f0-40ec-b732-3e3961089deb\" class=\"colab-df-container\">\n",
              "    <div>\n",
              "<style scoped>\n",
              "    .dataframe tbody tr th:only-of-type {\n",
              "        vertical-align: middle;\n",
              "    }\n",
              "\n",
              "    .dataframe tbody tr th {\n",
              "        vertical-align: top;\n",
              "    }\n",
              "\n",
              "    .dataframe thead th {\n",
              "        text-align: right;\n",
              "    }\n",
              "</style>\n",
              "<table border=\"1\" class=\"dataframe\">\n",
              "  <thead>\n",
              "    <tr style=\"text-align: right;\">\n",
              "      <th></th>\n",
              "      <th>hidden_layer_sizes</th>\n",
              "      <th>activation</th>\n",
              "      <th>CVMAE</th>\n",
              "      <th>CVMSE</th>\n",
              "    </tr>\n",
              "  </thead>\n",
              "  <tbody>\n",
              "    <tr>\n",
              "      <th>14</th>\n",
              "      <td>(250, 11)</td>\n",
              "      <td>tanh</td>\n",
              "      <td>0.288373</td>\n",
              "      <td>0.268555</td>\n",
              "    </tr>\n",
              "    <tr>\n",
              "      <th>26</th>\n",
              "      <td>(300, 13)</td>\n",
              "      <td>tanh</td>\n",
              "      <td>0.301576</td>\n",
              "      <td>0.271341</td>\n",
              "    </tr>\n",
              "    <tr>\n",
              "      <th>20</th>\n",
              "      <td>(300, 9)</td>\n",
              "      <td>tanh</td>\n",
              "      <td>0.302279</td>\n",
              "      <td>0.284921</td>\n",
              "    </tr>\n",
              "    <tr>\n",
              "      <th>9</th>\n",
              "      <td>(250, 9)</td>\n",
              "      <td>relu</td>\n",
              "      <td>0.315122</td>\n",
              "      <td>0.293126</td>\n",
              "    </tr>\n",
              "    <tr>\n",
              "      <th>24</th>\n",
              "      <td>(300, 13)</td>\n",
              "      <td>relu</td>\n",
              "      <td>0.319172</td>\n",
              "      <td>0.287318</td>\n",
              "    </tr>\n",
              "  </tbody>\n",
              "</table>\n",
              "</div>\n",
              "    <div class=\"colab-df-buttons\">\n",
              "\n",
              "  <div class=\"colab-df-container\">\n",
              "    <button class=\"colab-df-convert\" onclick=\"convertToInteractive('df-66591852-25f0-40ec-b732-3e3961089deb')\"\n",
              "            title=\"Convert this dataframe to an interactive table.\"\n",
              "            style=\"display:none;\">\n",
              "\n",
              "  <svg xmlns=\"http://www.w3.org/2000/svg\" height=\"24px\" viewBox=\"0 -960 960 960\">\n",
              "    <path d=\"M120-120v-720h720v720H120Zm60-500h600v-160H180v160Zm220 220h160v-160H400v160Zm0 220h160v-160H400v160ZM180-400h160v-160H180v160Zm440 0h160v-160H620v160ZM180-180h160v-160H180v160Zm440 0h160v-160H620v160Z\"/>\n",
              "  </svg>\n",
              "    </button>\n",
              "\n",
              "  <style>\n",
              "    .colab-df-container {\n",
              "      display:flex;\n",
              "      gap: 12px;\n",
              "    }\n",
              "\n",
              "    .colab-df-convert {\n",
              "      background-color: #E8F0FE;\n",
              "      border: none;\n",
              "      border-radius: 50%;\n",
              "      cursor: pointer;\n",
              "      display: none;\n",
              "      fill: #1967D2;\n",
              "      height: 32px;\n",
              "      padding: 0 0 0 0;\n",
              "      width: 32px;\n",
              "    }\n",
              "\n",
              "    .colab-df-convert:hover {\n",
              "      background-color: #E2EBFA;\n",
              "      box-shadow: 0px 1px 2px rgba(60, 64, 67, 0.3), 0px 1px 3px 1px rgba(60, 64, 67, 0.15);\n",
              "      fill: #174EA6;\n",
              "    }\n",
              "\n",
              "    .colab-df-buttons div {\n",
              "      margin-bottom: 4px;\n",
              "    }\n",
              "\n",
              "    [theme=dark] .colab-df-convert {\n",
              "      background-color: #3B4455;\n",
              "      fill: #D2E3FC;\n",
              "    }\n",
              "\n",
              "    [theme=dark] .colab-df-convert:hover {\n",
              "      background-color: #434B5C;\n",
              "      box-shadow: 0px 1px 3px 1px rgba(0, 0, 0, 0.15);\n",
              "      filter: drop-shadow(0px 1px 2px rgba(0, 0, 0, 0.3));\n",
              "      fill: #FFFFFF;\n",
              "    }\n",
              "  </style>\n",
              "\n",
              "    <script>\n",
              "      const buttonEl =\n",
              "        document.querySelector('#df-66591852-25f0-40ec-b732-3e3961089deb button.colab-df-convert');\n",
              "      buttonEl.style.display =\n",
              "        google.colab.kernel.accessAllowed ? 'block' : 'none';\n",
              "\n",
              "      async function convertToInteractive(key) {\n",
              "        const element = document.querySelector('#df-66591852-25f0-40ec-b732-3e3961089deb');\n",
              "        const dataTable =\n",
              "          await google.colab.kernel.invokeFunction('convertToInteractive',\n",
              "                                                    [key], {});\n",
              "        if (!dataTable) return;\n",
              "\n",
              "        const docLinkHtml = 'Like what you see? Visit the ' +\n",
              "          '<a target=\"_blank\" href=https://colab.research.google.com/notebooks/data_table.ipynb>data table notebook</a>'\n",
              "          + ' to learn more about interactive tables.';\n",
              "        element.innerHTML = '';\n",
              "        dataTable['output_type'] = 'display_data';\n",
              "        await google.colab.output.renderOutput(dataTable, element);\n",
              "        const docLink = document.createElement('div');\n",
              "        docLink.innerHTML = docLinkHtml;\n",
              "        element.appendChild(docLink);\n",
              "      }\n",
              "    </script>\n",
              "  </div>\n",
              "\n",
              "\n",
              "<div id=\"df-cd90e95f-3270-4512-b011-c07836bca52b\">\n",
              "  <button class=\"colab-df-quickchart\" onclick=\"quickchart('df-cd90e95f-3270-4512-b011-c07836bca52b')\"\n",
              "            title=\"Suggest charts.\"\n",
              "            style=\"display:none;\">\n",
              "\n",
              "<svg xmlns=\"http://www.w3.org/2000/svg\" height=\"24px\"viewBox=\"0 0 24 24\"\n",
              "     width=\"24px\">\n",
              "    <g>\n",
              "        <path d=\"M19 3H5c-1.1 0-2 .9-2 2v14c0 1.1.9 2 2 2h14c1.1 0 2-.9 2-2V5c0-1.1-.9-2-2-2zM9 17H7v-7h2v7zm4 0h-2V7h2v10zm4 0h-2v-4h2v4z\"/>\n",
              "    </g>\n",
              "</svg>\n",
              "  </button>\n",
              "\n",
              "<style>\n",
              "  .colab-df-quickchart {\n",
              "      --bg-color: #E8F0FE;\n",
              "      --fill-color: #1967D2;\n",
              "      --hover-bg-color: #E2EBFA;\n",
              "      --hover-fill-color: #174EA6;\n",
              "      --disabled-fill-color: #AAA;\n",
              "      --disabled-bg-color: #DDD;\n",
              "  }\n",
              "\n",
              "  [theme=dark] .colab-df-quickchart {\n",
              "      --bg-color: #3B4455;\n",
              "      --fill-color: #D2E3FC;\n",
              "      --hover-bg-color: #434B5C;\n",
              "      --hover-fill-color: #FFFFFF;\n",
              "      --disabled-bg-color: #3B4455;\n",
              "      --disabled-fill-color: #666;\n",
              "  }\n",
              "\n",
              "  .colab-df-quickchart {\n",
              "    background-color: var(--bg-color);\n",
              "    border: none;\n",
              "    border-radius: 50%;\n",
              "    cursor: pointer;\n",
              "    display: none;\n",
              "    fill: var(--fill-color);\n",
              "    height: 32px;\n",
              "    padding: 0;\n",
              "    width: 32px;\n",
              "  }\n",
              "\n",
              "  .colab-df-quickchart:hover {\n",
              "    background-color: var(--hover-bg-color);\n",
              "    box-shadow: 0 1px 2px rgba(60, 64, 67, 0.3), 0 1px 3px 1px rgba(60, 64, 67, 0.15);\n",
              "    fill: var(--button-hover-fill-color);\n",
              "  }\n",
              "\n",
              "  .colab-df-quickchart-complete:disabled,\n",
              "  .colab-df-quickchart-complete:disabled:hover {\n",
              "    background-color: var(--disabled-bg-color);\n",
              "    fill: var(--disabled-fill-color);\n",
              "    box-shadow: none;\n",
              "  }\n",
              "\n",
              "  .colab-df-spinner {\n",
              "    border: 2px solid var(--fill-color);\n",
              "    border-color: transparent;\n",
              "    border-bottom-color: var(--fill-color);\n",
              "    animation:\n",
              "      spin 1s steps(1) infinite;\n",
              "  }\n",
              "\n",
              "  @keyframes spin {\n",
              "    0% {\n",
              "      border-color: transparent;\n",
              "      border-bottom-color: var(--fill-color);\n",
              "      border-left-color: var(--fill-color);\n",
              "    }\n",
              "    20% {\n",
              "      border-color: transparent;\n",
              "      border-left-color: var(--fill-color);\n",
              "      border-top-color: var(--fill-color);\n",
              "    }\n",
              "    30% {\n",
              "      border-color: transparent;\n",
              "      border-left-color: var(--fill-color);\n",
              "      border-top-color: var(--fill-color);\n",
              "      border-right-color: var(--fill-color);\n",
              "    }\n",
              "    40% {\n",
              "      border-color: transparent;\n",
              "      border-right-color: var(--fill-color);\n",
              "      border-top-color: var(--fill-color);\n",
              "    }\n",
              "    60% {\n",
              "      border-color: transparent;\n",
              "      border-right-color: var(--fill-color);\n",
              "    }\n",
              "    80% {\n",
              "      border-color: transparent;\n",
              "      border-right-color: var(--fill-color);\n",
              "      border-bottom-color: var(--fill-color);\n",
              "    }\n",
              "    90% {\n",
              "      border-color: transparent;\n",
              "      border-bottom-color: var(--fill-color);\n",
              "    }\n",
              "  }\n",
              "</style>\n",
              "\n",
              "  <script>\n",
              "    async function quickchart(key) {\n",
              "      const quickchartButtonEl =\n",
              "        document.querySelector('#' + key + ' button');\n",
              "      quickchartButtonEl.disabled = true;  // To prevent multiple clicks.\n",
              "      quickchartButtonEl.classList.add('colab-df-spinner');\n",
              "      try {\n",
              "        const charts = await google.colab.kernel.invokeFunction(\n",
              "            'suggestCharts', [key], {});\n",
              "      } catch (error) {\n",
              "        console.error('Error during call to suggestCharts:', error);\n",
              "      }\n",
              "      quickchartButtonEl.classList.remove('colab-df-spinner');\n",
              "      quickchartButtonEl.classList.add('colab-df-quickchart-complete');\n",
              "    }\n",
              "    (() => {\n",
              "      let quickchartButtonEl =\n",
              "        document.querySelector('#df-cd90e95f-3270-4512-b011-c07836bca52b button');\n",
              "      quickchartButtonEl.style.display =\n",
              "        google.colab.kernel.accessAllowed ? 'block' : 'none';\n",
              "    })();\n",
              "  </script>\n",
              "</div>\n",
              "    </div>\n",
              "  </div>\n"
            ]
          },
          "metadata": {},
          "execution_count": 27
        }
      ]
    },
    {
      "cell_type": "markdown",
      "source": [
        "Лучшие гиперпараметры из рассмотренных: 11 скрытых уровней размерности 250, функция активации tanh."
      ],
      "metadata": {
        "id": "OAQt0mi7mT4E"
      }
    },
    {
      "cell_type": "code",
      "source": [
        "# LOOCV с подобранными гиперпараметрами\n",
        "model = MLPRegressor(hidden_layer_sizes=(250,11), activation='tanh', max_iter=300, random_state = 0)\n",
        "mae, mse = CV(X, y, model)"
      ],
      "metadata": {
        "colab": {
          "base_uri": "https://localhost:8080/"
        },
        "id": "-QghIMEveyya",
        "outputId": "774667ce-6691-44cf-d6ff-72e85d065ac7"
      },
      "execution_count": 28,
      "outputs": [
        {
          "output_type": "stream",
          "name": "stdout",
          "text": [
            "CVMAE: 0.27703183066077053\n",
            "CVMSE: 0.23892047490236393\n"
          ]
        }
      ]
    },
    {
      "cell_type": "code",
      "source": [
        "# гистограмма ошибок для LOOCV с подобранными гиперпараметрами\n",
        "histogram_mae(mae, number_of_bins = 30)"
      ],
      "metadata": {
        "colab": {
          "base_uri": "https://localhost:8080/",
          "height": 449
        },
        "id": "p5heBLumhfjq",
        "outputId": "af419a99-07b7-482f-e183-69bfdc8d357b"
      },
      "execution_count": 29,
      "outputs": [
        {
          "output_type": "display_data",
          "data": {
            "text/plain": [
              "<Figure size 640x480 with 1 Axes>"
            ],
            "image/png": "[encoded data removed]"
          },
          "metadata": {}
        }
      ]
    },
    {
      "cell_type": "markdown",
      "source": [
        "Видим, что, как и в случае с линейной регрессией, есть несколько значительных выбросов.\n",
        "\n"
      ],
      "metadata": {
        "id": "yeMUiKf_LwcO"
      }
    },
    {
      "cell_type": "code",
      "source": [
        "list_mae = pd.Series(mae)\n",
        "i = list_mae.nlargest(5)\n",
        "indices_perceptron = i.index.values.tolist()\n",
        "indices_perceptron"
      ],
      "metadata": {
        "colab": {
          "base_uri": "https://localhost:8080/"
        },
        "id": "WCsXoubHF9eu",
        "outputId": "9e7a7835-024f-40c4-a2ba-d16dd6c336d9"
      },
      "execution_count": 30,
      "outputs": [
        {
          "output_type": "execute_result",
          "data": {
            "text/plain": [
              "[80, 58, 48, 129, 123]"
            ]
          },
          "metadata": {},
          "execution_count": 30
        }
      ]
    },
    {
      "cell_type": "markdown",
      "source": [
        "## Формула Надарая-Ватсона"
      ],
      "metadata": {
        "id": "kmWB_FNIbiQ4"
      }
    },
    {
      "cell_type": "markdown",
      "source": [
        "Формула:\n",
        "$$\n",
        "a_h(x, X^l) = \\frac{\\sum_{i=1}^l y_i K \\left(\\frac{\\rho(x,x^i)}{h}\\right)}{\\sum_{i=1}^l K \\left(\\frac{\\rho(x,x^i)}{h}\\right)}\n",
        "$$\n",
        "В этот раз возьмём код из семинарского ноутбука и модифицируем его."
      ],
      "metadata": {
        "id": "lmobpSQ6cJcH"
      }
    },
    {
      "cell_type": "code",
      "source": [
        "class FNV(object):\n",
        "    def __init__(self, kernel, h):\n",
        "        self.X, self.Y = None, None\n",
        "        self.kernel = kernel\n",
        "        self.h = h\n",
        "    def predict(self, X):\n",
        "        features = np.sum(self.Y*self.kernel(cdist(X, self.X), self.h), axis=-1)       # cdist ([a1,a2], [b1,b2]) = || d(a1,b1) d(a1,b2) ||\n",
        "        return features/(np.sum(self.kernel(cdist(X, self.X), self.h), axis=-1)+1e-10) #                            || d(a2,b1) d(a2,b2) ||\n",
        "    def fit(self, X, Y, epoch=10):\n",
        "        self.X, self.Y = np.array(X), np.array(Y)\n",
        "    def set_params(self, **parameters):\n",
        "        for parameter, value in parameters.items():\n",
        "            setattr(self, parameter, value)\n",
        "        return self\n",
        "\n"
      ],
      "metadata": {
        "id": "CAo6dEwhboek"
      },
      "execution_count": 31,
      "outputs": []
    },
    {
      "cell_type": "markdown",
      "source": [
        "Рассмотрим три ядра: квадратичное, треугольное и гауссовское."
      ],
      "metadata": {
        "id": "VIj08ZcVnDoj"
      }
    },
    {
      "cell_type": "code",
      "source": [
        "def quadratic(distance, h = 0.2): # квадратичное ядро: 1-r**2, |r|<=1\n",
        "    ret = np.array(distance)/h\n",
        "    return (1 - ret**2) * (np.abs(ret) <= 1)"
      ],
      "metadata": {
        "id": "D1LA5Mn7fKmS"
      },
      "execution_count": 32,
      "outputs": []
    },
    {
      "cell_type": "code",
      "source": [
        "def triangle(distance, h = 0.2): # треугольное ядро: 1-|r|, |r|<=1\n",
        "    ret = np.array(distance)/h\n",
        "    return (1 - np.abs(ret)) * (np.abs(ret) <= 1)"
      ],
      "metadata": {
        "id": "GMtRyGaIl6DB"
      },
      "execution_count": 33,
      "outputs": []
    },
    {
      "cell_type": "code",
      "source": [
        "def gauss(distance, h = 0.2): # гауссовское ядро: exp(-2r^2), |r|<=1\n",
        "    ret = np.array(distance)/h\n",
        "    return np.exp(-2*ret**2)"
      ],
      "metadata": {
        "id": "DN2CkPcxtyzx"
      },
      "execution_count": 34,
      "outputs": []
    },
    {
      "cell_type": "code",
      "source": [
        "# LOOCV с начальными гиперпараметрами\n",
        "model = FNV(triangle, h = 1.5)\n",
        "mae = CV(X, y, model)[0]"
      ],
      "metadata": {
        "colab": {
          "base_uri": "https://localhost:8080/"
        },
        "id": "GU6Bb6fAqDD_",
        "outputId": "a2f85bef-e763-4eea-c0ed-bca2f21233a1"
      },
      "execution_count": 35,
      "outputs": [
        {
          "output_type": "stream",
          "name": "stdout",
          "text": [
            "CVMAE: 0.7600125010556362\n",
            "CVMSE: 1.1126191117896418\n"
          ]
        }
      ]
    },
    {
      "cell_type": "code",
      "source": [
        "# гистограмма ошибок для LOOCV с начальными гиперпараметрами\n",
        "histogram_mae(mae, number_of_bins = 30)"
      ],
      "metadata": {
        "colab": {
          "base_uri": "https://localhost:8080/",
          "height": 449
        },
        "id": "Hm9BktiJpWJY",
        "outputId": "c68c4c6f-1267-4779-a0f4-ab14ab698790"
      },
      "execution_count": 36,
      "outputs": [
        {
          "output_type": "display_data",
          "data": {
            "text/plain": [
              "<Figure size 640x480 with 1 Axes>"
            ],
            "image/png": "[encoded data removed]"
          },
          "metadata": {}
        }
      ]
    },
    {
      "cell_type": "code",
      "source": [
        "parameters = { 'h': [0.5 + 0.1*i for i in range(16)],\n",
        "              'kernel': [quadratic, triangle, gauss] }\n",
        "model = FNV(gauss, 0.2)\n"
      ],
      "metadata": {
        "id": "L8vijebXvk_Z"
      },
      "execution_count": 37,
      "outputs": []
    },
    {
      "cell_type": "code",
      "source": [
        "cases = MyGridSearchCV(model, parameters, num_of_folds = 5)\n"
      ],
      "metadata": {
        "id": "mCNarR4ItwHJ"
      },
      "execution_count": 38,
      "outputs": []
    },
    {
      "cell_type": "code",
      "source": [
        "cases_df = GridSearchCV_table(cases, sort_by = 'CVMAE')\n",
        "cases_df.head()"
      ],
      "metadata": {
        "colab": {
          "base_uri": "https://localhost:8080/",
          "height": 206
        },
        "id": "kdi85l8cz6GI",
        "outputId": "d0c92953-7a97-4075-cea4-c596b4dc2a94"
      },
      "execution_count": 39,
      "outputs": [
        {
          "output_type": "execute_result",
          "data": {
            "text/plain": [
              "      h                                 kernel     CVMAE     CVMSE\n",
              "8   0.7     <function gauss at 0x7a6514ca05e0>  0.698076  1.119310\n",
              "5   0.6     <function gauss at 0x7a6514ca05e0>  0.700168  1.156600\n",
              "11  0.8     <function gauss at 0x7a6514ca05e0>  0.700246  1.076740\n",
              "2   0.5     <function gauss at 0x7a6514ca05e0>  0.701451  1.169525\n",
              "19  1.1  <function triangle at 0x7a6514ca0310>  0.704496  1.172651"
            ],
            "text/html": [
              "\n",
              "  <div id=\"df-b27d7f81-c5e2-4441-9f89-d0d773fd3493\" class=\"colab-df-container\">\n",
              "    <div>\n",
              "<style scoped>\n",
              "    .dataframe tbody tr th:only-of-type {\n",
              "        vertical-align: middle;\n",
              "    }\n",
              "\n",
              "    .dataframe tbody tr th {\n",
              "        vertical-align: top;\n",
              "    }\n",
              "\n",
              "    .dataframe thead th {\n",
              "        text-align: right;\n",
              "    }\n",
              "</style>\n",
              "<table border=\"1\" class=\"dataframe\">\n",
              "  <thead>\n",
              "    <tr style=\"text-align: right;\">\n",
              "      <th></th>\n",
              "      <th>h</th>\n",
              "      <th>kernel</th>\n",
              "      <th>CVMAE</th>\n",
              "      <th>CVMSE</th>\n",
              "    </tr>\n",
              "  </thead>\n",
              "  <tbody>\n",
              "    <tr>\n",
              "      <th>8</th>\n",
              "      <td>0.7</td>\n",
              "      <td>&lt;function gauss at 0x7a6514ca05e0&gt;</td>\n",
              "      <td>0.698076</td>\n",
              "      <td>1.119310</td>\n",
              "    </tr>\n",
              "    <tr>\n",
              "      <th>5</th>\n",
              "      <td>0.6</td>\n",
              "      <td>&lt;function gauss at 0x7a6514ca05e0&gt;</td>\n",
              "      <td>0.700168</td>\n",
              "      <td>1.156600</td>\n",
              "    </tr>\n",
              "    <tr>\n",
              "      <th>11</th>\n",
              "      <td>0.8</td>\n",
              "      <td>&lt;function gauss at 0x7a6514ca05e0&gt;</td>\n",
              "      <td>0.700246</td>\n",
              "      <td>1.076740</td>\n",
              "    </tr>\n",
              "    <tr>\n",
              "      <th>2</th>\n",
              "      <td>0.5</td>\n",
              "      <td>&lt;function gauss at 0x7a6514ca05e0&gt;</td>\n",
              "      <td>0.701451</td>\n",
              "      <td>1.169525</td>\n",
              "    </tr>\n",
              "    <tr>\n",
              "      <th>19</th>\n",
              "      <td>1.1</td>\n",
              "      <td>&lt;function triangle at 0x7a6514ca0310&gt;</td>\n",
              "      <td>0.704496</td>\n",
              "      <td>1.172651</td>\n",
              "    </tr>\n",
              "  </tbody>\n",
              "</table>\n",
              "</div>\n",
              "    <div class=\"colab-df-buttons\">\n",
              "\n",
              "  <div class=\"colab-df-container\">\n",
              "    <button class=\"colab-df-convert\" onclick=\"convertToInteractive('df-b27d7f81-c5e2-4441-9f89-d0d773fd3493')\"\n",
              "            title=\"Convert this dataframe to an interactive table.\"\n",
              "            style=\"display:none;\">\n",
              "\n",
              "  <svg xmlns=\"http://www.w3.org/2000/svg\" height=\"24px\" viewBox=\"0 -960 960 960\">\n",
              "    <path d=\"M120-120v-720h720v720H120Zm60-500h600v-160H180v160Zm220 220h160v-160H400v160Zm0 220h160v-160H400v160ZM180-400h160v-160H180v160Zm440 0h160v-160H620v160ZM180-180h160v-160H180v160Zm440 0h160v-160H620v160Z\"/>\n",
              "  </svg>\n",
              "    </button>\n",
              "\n",
              "  <style>\n",
              "    .colab-df-container {\n",
              "      display:flex;\n",
              "      gap: 12px;\n",
              "    }\n",
              "\n",
              "    .colab-df-convert {\n",
              "      background-color: #E8F0FE;\n",
              "      border: none;\n",
              "      border-radius: 50%;\n",
              "      cursor: pointer;\n",
              "      display: none;\n",
              "      fill: #1967D2;\n",
              "      height: 32px;\n",
              "      padding: 0 0 0 0;\n",
              "      width: 32px;\n",
              "    }\n",
              "\n",
              "    .colab-df-convert:hover {\n",
              "      background-color: #E2EBFA;\n",
              "      box-shadow: 0px 1px 2px rgba(60, 64, 67, 0.3), 0px 1px 3px 1px rgba(60, 64, 67, 0.15);\n",
              "      fill: #174EA6;\n",
              "    }\n",
              "\n",
              "    .colab-df-buttons div {\n",
              "      margin-bottom: 4px;\n",
              "    }\n",
              "\n",
              "    [theme=dark] .colab-df-convert {\n",
              "      background-color: #3B4455;\n",
              "      fill: #D2E3FC;\n",
              "    }\n",
              "\n",
              "    [theme=dark] .colab-df-convert:hover {\n",
              "      background-color: #434B5C;\n",
              "      box-shadow: 0px 1px 3px 1px rgba(0, 0, 0, 0.15);\n",
              "      filter: drop-shadow(0px 1px 2px rgba(0, 0, 0, 0.3));\n",
              "      fill: #FFFFFF;\n",
              "    }\n",
              "  </style>\n",
              "\n",
              "    <script>\n",
              "      const buttonEl =\n",
              "        document.querySelector('#df-b27d7f81-c5e2-4441-9f89-d0d773fd3493 button.colab-df-convert');\n",
              "      buttonEl.style.display =\n",
              "        google.colab.kernel.accessAllowed ? 'block' : 'none';\n",
              "\n",
              "      async function convertToInteractive(key) {\n",
              "        const element = document.querySelector('#df-b27d7f81-c5e2-4441-9f89-d0d773fd3493');\n",
              "        const dataTable =\n",
              "          await google.colab.kernel.invokeFunction('convertToInteractive',\n",
              "                                                    [key], {});\n",
              "        if (!dataTable) return;\n",
              "\n",
              "        const docLinkHtml = 'Like what you see? Visit the ' +\n",
              "          '<a target=\"_blank\" href=https://colab.research.google.com/notebooks/data_table.ipynb>data table notebook</a>'\n",
              "          + ' to learn more about interactive tables.';\n",
              "        element.innerHTML = '';\n",
              "        dataTable['output_type'] = 'display_data';\n",
              "        await google.colab.output.renderOutput(dataTable, element);\n",
              "        const docLink = document.createElement('div');\n",
              "        docLink.innerHTML = docLinkHtml;\n",
              "        element.appendChild(docLink);\n",
              "      }\n",
              "    </script>\n",
              "  </div>\n",
              "\n",
              "\n",
              "<div id=\"df-26a7b317-983f-4235-ba12-7bedf8fbd4f2\">\n",
              "  <button class=\"colab-df-quickchart\" onclick=\"quickchart('df-26a7b317-983f-4235-ba12-7bedf8fbd4f2')\"\n",
              "            title=\"Suggest charts.\"\n",
              "            style=\"display:none;\">\n",
              "\n",
              "<svg xmlns=\"http://www.w3.org/2000/svg\" height=\"24px\"viewBox=\"0 0 24 24\"\n",
              "     width=\"24px\">\n",
              "    <g>\n",
              "        <path d=\"M19 3H5c-1.1 0-2 .9-2 2v14c0 1.1.9 2 2 2h14c1.1 0 2-.9 2-2V5c0-1.1-.9-2-2-2zM9 17H7v-7h2v7zm4 0h-2V7h2v10zm4 0h-2v-4h2v4z\"/>\n",
              "    </g>\n",
              "</svg>\n",
              "  </button>\n",
              "\n",
              "<style>\n",
              "  .colab-df-quickchart {\n",
              "      --bg-color: #E8F0FE;\n",
              "      --fill-color: #1967D2;\n",
              "      --hover-bg-color: #E2EBFA;\n",
              "      --hover-fill-color: #174EA6;\n",
              "      --disabled-fill-color: #AAA;\n",
              "      --disabled-bg-color: #DDD;\n",
              "  }\n",
              "\n",
              "  [theme=dark] .colab-df-quickchart {\n",
              "      --bg-color: #3B4455;\n",
              "      --fill-color: #D2E3FC;\n",
              "      --hover-bg-color: #434B5C;\n",
              "      --hover-fill-color: #FFFFFF;\n",
              "      --disabled-bg-color: #3B4455;\n",
              "      --disabled-fill-color: #666;\n",
              "  }\n",
              "\n",
              "  .colab-df-quickchart {\n",
              "    background-color: var(--bg-color);\n",
              "    border: none;\n",
              "    border-radius: 50%;\n",
              "    cursor: pointer;\n",
              "    display: none;\n",
              "    fill: var(--fill-color);\n",
              "    height: 32px;\n",
              "    padding: 0;\n",
              "    width: 32px;\n",
              "  }\n",
              "\n",
              "  .colab-df-quickchart:hover {\n",
              "    background-color: var(--hover-bg-color);\n",
              "    box-shadow: 0 1px 2px rgba(60, 64, 67, 0.3), 0 1px 3px 1px rgba(60, 64, 67, 0.15);\n",
              "    fill: var(--button-hover-fill-color);\n",
              "  }\n",
              "\n",
              "  .colab-df-quickchart-complete:disabled,\n",
              "  .colab-df-quickchart-complete:disabled:hover {\n",
              "    background-color: var(--disabled-bg-color);\n",
              "    fill: var(--disabled-fill-color);\n",
              "    box-shadow: none;\n",
              "  }\n",
              "\n",
              "  .colab-df-spinner {\n",
              "    border: 2px solid var(--fill-color);\n",
              "    border-color: transparent;\n",
              "    border-bottom-color: var(--fill-color);\n",
              "    animation:\n",
              "      spin 1s steps(1) infinite;\n",
              "  }\n",
              "\n",
              "  @keyframes spin {\n",
              "    0% {\n",
              "      border-color: transparent;\n",
              "      border-bottom-color: var(--fill-color);\n",
              "      border-left-color: var(--fill-color);\n",
              "    }\n",
              "    20% {\n",
              "      border-color: transparent;\n",
              "      border-left-color: var(--fill-color);\n",
              "      border-top-color: var(--fill-color);\n",
              "    }\n",
              "    30% {\n",
              "      border-color: transparent;\n",
              "      border-left-color: var(--fill-color);\n",
              "      border-top-color: var(--fill-color);\n",
              "      border-right-color: var(--fill-color);\n",
              "    }\n",
              "    40% {\n",
              "      border-color: transparent;\n",
              "      border-right-color: var(--fill-color);\n",
              "      border-top-color: var(--fill-color);\n",
              "    }\n",
              "    60% {\n",
              "      border-color: transparent;\n",
              "      border-right-color: var(--fill-color);\n",
              "    }\n",
              "    80% {\n",
              "      border-color: transparent;\n",
              "      border-right-color: var(--fill-color);\n",
              "      border-bottom-color: var(--fill-color);\n",
              "    }\n",
              "    90% {\n",
              "      border-color: transparent;\n",
              "      border-bottom-color: var(--fill-color);\n",
              "    }\n",
              "  }\n",
              "</style>\n",
              "\n",
              "  <script>\n",
              "    async function quickchart(key) {\n",
              "      const quickchartButtonEl =\n",
              "        document.querySelector('#' + key + ' button');\n",
              "      quickchartButtonEl.disabled = true;  // To prevent multiple clicks.\n",
              "      quickchartButtonEl.classList.add('colab-df-spinner');\n",
              "      try {\n",
              "        const charts = await google.colab.kernel.invokeFunction(\n",
              "            'suggestCharts', [key], {});\n",
              "      } catch (error) {\n",
              "        console.error('Error during call to suggestCharts:', error);\n",
              "      }\n",
              "      quickchartButtonEl.classList.remove('colab-df-spinner');\n",
              "      quickchartButtonEl.classList.add('colab-df-quickchart-complete');\n",
              "    }\n",
              "    (() => {\n",
              "      let quickchartButtonEl =\n",
              "        document.querySelector('#df-26a7b317-983f-4235-ba12-7bedf8fbd4f2 button');\n",
              "      quickchartButtonEl.style.display =\n",
              "        google.colab.kernel.accessAllowed ? 'block' : 'none';\n",
              "    })();\n",
              "  </script>\n",
              "</div>\n",
              "    </div>\n",
              "  </div>\n"
            ]
          },
          "metadata": {},
          "execution_count": 39
        }
      ]
    },
    {
      "cell_type": "markdown",
      "source": [
        "Лучшие гиперпараметры из рассмотренных: гауссовское ядро, h = 0.7."
      ],
      "metadata": {
        "id": "GzJDXDzs1K6c"
      }
    },
    {
      "cell_type": "code",
      "source": [
        "# LOOCV с подобранными гиперпараметрами\n",
        "model = FNV(gauss, h = 0.7)\n",
        "mae = CV(X, y, model)[0]"
      ],
      "metadata": {
        "colab": {
          "base_uri": "https://localhost:8080/"
        },
        "id": "E4W3tnLWqFo9",
        "outputId": "0a16c3da-1a5e-4f2b-d669-3e32cb7f46df"
      },
      "execution_count": 40,
      "outputs": [
        {
          "output_type": "stream",
          "name": "stdout",
          "text": [
            "CVMAE: 0.7317938146615309\n",
            "CVMSE: 1.1259650833999277\n"
          ]
        }
      ]
    },
    {
      "cell_type": "code",
      "source": [
        "# гистограмма ошибок для LOOCV с подобранными гиперпараметрами\n",
        "histogram_mae(mae, number_of_bins = 30)"
      ],
      "metadata": {
        "colab": {
          "base_uri": "https://localhost:8080/",
          "height": 449
        },
        "id": "nv_Iimb21jmy",
        "outputId": "9b958b33-7ad0-4f2d-d87d-ff2e0988627f"
      },
      "execution_count": 41,
      "outputs": [
        {
          "output_type": "display_data",
          "data": {
            "text/plain": [
              "<Figure size 640x480 with 1 Axes>"
            ],
            "image/png": "[encoded data removed]"
          },
          "metadata": {}
        }
      ]
    },
    {
      "cell_type": "markdown",
      "source": [
        "Как и в прошлых методах, видны выбросы."
      ],
      "metadata": {
        "id": "V8Ld2W8kMPUA"
      }
    },
    {
      "cell_type": "code",
      "source": [
        "list_mae = pd.Series(mae)\n",
        "i = list_mae.nlargest(5)\n",
        "indices_nv = i.index.values.tolist()\n",
        "indices_nv"
      ],
      "metadata": {
        "colab": {
          "base_uri": "https://localhost:8080/"
        },
        "id": "Cqx8MW5xHgT2",
        "outputId": "3be06477-3916-4a35-f648-b55235a77b1b"
      },
      "execution_count": 42,
      "outputs": [
        {
          "output_type": "execute_result",
          "data": {
            "text/plain": [
              "[80, 58, 151, 96, 68]"
            ]
          },
          "metadata": {},
          "execution_count": 42
        }
      ]
    },
    {
      "cell_type": "markdown",
      "source": [
        "## Объекты с максимальной ошибкой"
      ],
      "metadata": {
        "id": "ktFMzaCdHo0I"
      }
    },
    {
      "cell_type": "code",
      "source": [
        "print(f'Линейная регрессия: {indices_linear}')\n",
        "print(f'Перцептрон: {indices_perceptron}')\n",
        "print(f'Надарая-Ватсон: {indices_nv}')\n"
      ],
      "metadata": {
        "colab": {
          "base_uri": "https://localhost:8080/"
        },
        "id": "4jV8lEUeHs9t",
        "outputId": "0f70a40a-9d2b-4ed2-f697-60b2f8704441"
      },
      "execution_count": 43,
      "outputs": [
        {
          "output_type": "stream",
          "name": "stdout",
          "text": [
            "Линейная регрессия: [80, 58, 151, 35, 96]\n",
            "Перцептрон: [80, 58, 48, 129, 123]\n",
            "Надарая-Ватсон: [80, 58, 151, 96, 68]\n"
          ]
        }
      ]
    },
    {
      "cell_type": "markdown",
      "source": [
        "Самая большая ошибка в каждом из методов наблюдается на объектах 80 и 58. Также по два раза в списках выше встречаются объекты 151 и 96."
      ],
      "metadata": {
        "id": "icwlbJvzJDSk"
      }
    },
    {
      "cell_type": "markdown",
      "source": [
        "## Отчёт"
      ],
      "metadata": {
        "id": "ZISiuW637a6l"
      }
    },
    {
      "cell_type": "markdown",
      "source": [
        "Изученный датасет содержит достаточно сложную зависимость числовой переменной class от четырёх  признаков. Каждый из признаков оказалось разумно считать категориальным. Лучше всего с задачей регрессии справился перцептрон, линейная регрессия оказалась посередине, а метод Надарая-Ватсона дал худший результат. Для регрессии и перцептрона можно сравнить абсолютную ошибку с приведённой в описании датасета (разница в размере фолдов не имеет большого значения, как мы увидели выше). Для линейной регрессии результат оказался лучше (0.63 против 0.86), для перцептрона почти такой же, как в таблице для \"нейронных сетей\" (примерно 0.3). Возможно, что результат для регрессии помогло улучшить назначение vgain и pgain категориальными фичами (без этого результат 0.9).\n",
        "\n",
        "При LOO кросс-валидации в каждом из случаев наблюдались объекты, на которых методы давали значительную ошибку, причём два из них совпали для каждого из  методов. Поскольку датасет получен из симуляции сервосистемы, сложно сделать предположение об их природе. Однако кажется, что можно просто считать их шумом и выбросить из датасета.\n",
        "\n",
        "\n"
      ],
      "metadata": {
        "id": "7d9HQJA87n1M"
      }
    }
  ]
}